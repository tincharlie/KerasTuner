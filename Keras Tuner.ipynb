{
 "cells": [
  {
   "cell_type": "markdown",
   "id": "0b405693",
   "metadata": {},
   "source": [
    "<h1 style=\"color:Orange\" align=\"center\">Using Keras Tuner To Show The Best Result</h1>\n",
    "<h2 style=\"color:Green\" align=\"left\">Reading Data</h2>"
   ]
  },
  {
   "cell_type": "code",
   "execution_count": 1,
   "id": "8739e244",
   "metadata": {},
   "outputs": [],
   "source": [
    "import pandas as pd\n",
    "from PM8 import replacer, preprocessing\n",
    "from sklearn.preprocessing import LabelEncoder\n",
    "import warnings\n",
    "from sklearn.model_selection import train_test_split\n",
    "from keras.layers import Dense\n",
    "from keras.models import Sequential\n",
    "from keras.callbacks import EarlyStopping"
   ]
  },
  {
   "cell_type": "code",
   "execution_count": 2,
   "id": "4dc78fab",
   "metadata": {},
   "outputs": [
    {
     "data": {
      "text/html": [
       "<div>\n",
       "<style scoped>\n",
       "    .dataframe tbody tr th:only-of-type {\n",
       "        vertical-align: middle;\n",
       "    }\n",
       "\n",
       "    .dataframe tbody tr th {\n",
       "        vertical-align: top;\n",
       "    }\n",
       "\n",
       "    .dataframe thead th {\n",
       "        text-align: right;\n",
       "    }\n",
       "</style>\n",
       "<table border=\"1\" class=\"dataframe\">\n",
       "  <thead>\n",
       "    <tr style=\"text-align: right;\">\n",
       "      <th></th>\n",
       "      <th>Loan_ID</th>\n",
       "      <th>Gender</th>\n",
       "      <th>Married</th>\n",
       "      <th>Dependents</th>\n",
       "      <th>Education</th>\n",
       "      <th>Self_Employed</th>\n",
       "      <th>ApplicantIncome</th>\n",
       "      <th>CoapplicantIncome</th>\n",
       "      <th>LoanAmount</th>\n",
       "      <th>Loan_Amount_Term</th>\n",
       "      <th>Credit_History</th>\n",
       "      <th>Property_Area</th>\n",
       "      <th>Loan_Status</th>\n",
       "    </tr>\n",
       "  </thead>\n",
       "  <tbody>\n",
       "    <tr>\n",
       "      <th>0</th>\n",
       "      <td>LP001002</td>\n",
       "      <td>Male</td>\n",
       "      <td>No</td>\n",
       "      <td>0</td>\n",
       "      <td>Graduate</td>\n",
       "      <td>No</td>\n",
       "      <td>5849.0</td>\n",
       "      <td>0.0</td>\n",
       "      <td>NaN</td>\n",
       "      <td>360.0</td>\n",
       "      <td>1.0</td>\n",
       "      <td>Urban</td>\n",
       "      <td>Y</td>\n",
       "    </tr>\n",
       "    <tr>\n",
       "      <th>1</th>\n",
       "      <td>LP001003</td>\n",
       "      <td>Male</td>\n",
       "      <td>Yes</td>\n",
       "      <td>1</td>\n",
       "      <td>Graduate</td>\n",
       "      <td>No</td>\n",
       "      <td>NaN</td>\n",
       "      <td>1508.0</td>\n",
       "      <td>128.0</td>\n",
       "      <td>360.0</td>\n",
       "      <td>1.0</td>\n",
       "      <td>Rural</td>\n",
       "      <td>N</td>\n",
       "    </tr>\n",
       "    <tr>\n",
       "      <th>2</th>\n",
       "      <td>LP001005</td>\n",
       "      <td>Male</td>\n",
       "      <td>Yes</td>\n",
       "      <td>0</td>\n",
       "      <td>Graduate</td>\n",
       "      <td>Yes</td>\n",
       "      <td>3000.0</td>\n",
       "      <td>0.0</td>\n",
       "      <td>66.0</td>\n",
       "      <td>360.0</td>\n",
       "      <td>1.0</td>\n",
       "      <td>Urban</td>\n",
       "      <td>Y</td>\n",
       "    </tr>\n",
       "    <tr>\n",
       "      <th>3</th>\n",
       "      <td>LP001006</td>\n",
       "      <td>Male</td>\n",
       "      <td>Yes</td>\n",
       "      <td>0</td>\n",
       "      <td>Not Graduate</td>\n",
       "      <td>No</td>\n",
       "      <td>2583.0</td>\n",
       "      <td>2358.0</td>\n",
       "      <td>120.0</td>\n",
       "      <td>360.0</td>\n",
       "      <td>1.0</td>\n",
       "      <td>Urban</td>\n",
       "      <td>Y</td>\n",
       "    </tr>\n",
       "    <tr>\n",
       "      <th>4</th>\n",
       "      <td>LP001008</td>\n",
       "      <td>Male</td>\n",
       "      <td>No</td>\n",
       "      <td>0</td>\n",
       "      <td>Graduate</td>\n",
       "      <td>No</td>\n",
       "      <td>6000.0</td>\n",
       "      <td>0.0</td>\n",
       "      <td>141.0</td>\n",
       "      <td>360.0</td>\n",
       "      <td>1.0</td>\n",
       "      <td>Urban</td>\n",
       "      <td>Y</td>\n",
       "    </tr>\n",
       "  </tbody>\n",
       "</table>\n",
       "</div>"
      ],
      "text/plain": [
       "    Loan_ID Gender Married Dependents     Education Self_Employed  \\\n",
       "0  LP001002   Male      No          0      Graduate            No   \n",
       "1  LP001003   Male     Yes          1      Graduate            No   \n",
       "2  LP001005   Male     Yes          0      Graduate           Yes   \n",
       "3  LP001006   Male     Yes          0  Not Graduate            No   \n",
       "4  LP001008   Male      No          0      Graduate            No   \n",
       "\n",
       "   ApplicantIncome  CoapplicantIncome  LoanAmount  Loan_Amount_Term  \\\n",
       "0           5849.0                0.0         NaN             360.0   \n",
       "1              NaN             1508.0       128.0             360.0   \n",
       "2           3000.0                0.0        66.0             360.0   \n",
       "3           2583.0             2358.0       120.0             360.0   \n",
       "4           6000.0                0.0       141.0             360.0   \n",
       "\n",
       "   Credit_History Property_Area Loan_Status  \n",
       "0             1.0         Urban           Y  \n",
       "1             1.0         Rural           N  \n",
       "2             1.0         Urban           Y  \n",
       "3             1.0         Urban           Y  \n",
       "4             1.0         Urban           Y  "
      ]
     },
     "execution_count": 2,
     "metadata": {},
     "output_type": "execute_result"
    }
   ],
   "source": [
    "df = pd.read_csv(\"E:/Data_Science/python/datasets/training_set.csv\")\n",
    "df.head()"
   ]
  },
  {
   "cell_type": "markdown",
   "id": "ba76d293",
   "metadata": {},
   "source": [
    "<h2 style=\"color:Green\" align=\"left\">Data Understanding</h2>"
   ]
  },
  {
   "cell_type": "code",
   "execution_count": 3,
   "id": "d925e4dc",
   "metadata": {},
   "outputs": [
    {
     "name": "stdout",
     "output_type": "stream",
     "text": [
      "======Null Value Finder========\n",
      "Loan_ID               0\n",
      "Gender               15\n",
      "Married               3\n",
      "Dependents           15\n",
      "Education             1\n",
      "Self_Employed        32\n",
      "ApplicantIncome       2\n",
      "CoapplicantIncome     1\n",
      "LoanAmount           22\n",
      "Loan_Amount_Term     14\n",
      "Credit_History       50\n",
      "Property_Area         0\n",
      "Loan_Status           0\n",
      "dtype: int64\n",
      "======Unique Columns Dictionary========\n",
      "{'Loan_ID': 614, 'Gender': 3, 'Married': 3, 'Dependents': 5, 'Education': 3, 'Self_Employed': 3, 'ApplicantIncome': 505, 'CoapplicantIncome': 287, 'LoanAmount': 204, 'Loan_Amount_Term': 11, 'Credit_History': 3, 'Property_Area': 3, 'Loan_Status': 2}\n",
      "======Describe Data========\n",
      "       ApplicantIncome  CoapplicantIncome  LoanAmount  Loan_Amount_Term  \\\n",
      "count       612.000000         613.000000  592.000000         600.00000   \n",
      "mean       5405.540850        1620.888940  146.412162         342.00000   \n",
      "std        6118.914057        2928.624748   85.587325          65.12041   \n",
      "min         150.000000           0.000000    9.000000          12.00000   \n",
      "25%        2875.750000           0.000000  100.000000         360.00000   \n",
      "50%        3806.000000        1167.000000  128.000000         360.00000   \n",
      "75%        5803.750000        2302.000000  168.000000         360.00000   \n",
      "max       81000.000000       41667.000000  700.000000         480.00000   \n",
      "\n",
      "       Credit_History  \n",
      "count      564.000000  \n",
      "mean         0.842199  \n",
      "std          0.364878  \n",
      "min          0.000000  \n",
      "25%          1.000000  \n",
      "50%          1.000000  \n",
      "75%          1.000000  \n",
      "max          1.000000  \n"
     ]
    }
   ],
   "source": [
    "unique = {}\n",
    "for i in df.columns:\n",
    "    unique[i] = len(df[i].unique())\n",
    "print(\"======Null Value Finder========\")\n",
    "print(df.isna().sum())\n",
    "print(\"======Unique Columns Dictionary========\")\n",
    "print(unique)\n",
    "print(\"======Describe Data========\")\n",
    "print(df.describe())"
   ]
  },
  {
   "cell_type": "markdown",
   "id": "454536ed",
   "metadata": {},
   "source": [
    "\n",
    "<h2 style=\"color:Green\" align=\"left\">Replacing Null Values</h2>"
   ]
  },
  {
   "cell_type": "code",
   "execution_count": 4,
   "id": "8384e849",
   "metadata": {},
   "outputs": [],
   "source": [
    "from PM8 import replacer\n",
    "replacer(df)"
   ]
  },
  {
   "cell_type": "markdown",
   "id": "3eea7e85",
   "metadata": {},
   "source": [
    "<h2 style=\"color:Green\" align=\"left\">Define X and Y</h2>"
   ]
  },
  {
   "cell_type": "code",
   "execution_count": 5,
   "id": "b92f7cfb",
   "metadata": {},
   "outputs": [],
   "source": [
    "import warnings\n",
    "warnings.filterwarnings(\"ignore\")"
   ]
  },
  {
   "cell_type": "code",
   "execution_count": 6,
   "id": "56939b11",
   "metadata": {},
   "outputs": [],
   "source": [
    "Y = df[[\"Loan_Status\"]]\n",
    "X = df.drop(labels=[\"Loan_ID\",\"Loan_Status\"],axis=1)"
   ]
  },
  {
   "cell_type": "markdown",
   "id": "bcbcd0ca",
   "metadata": {},
   "source": [
    "<h2 style=\"color:Green\" align=\"left\">Label Encoder</h2>"
   ]
  },
  {
   "cell_type": "code",
   "execution_count": 7,
   "id": "a5d2e99a",
   "metadata": {},
   "outputs": [],
   "source": [
    "from sklearn.preprocessing import LabelEncoder\n",
    "import warnings\n",
    "\n",
    "le = LabelEncoder()\n",
    "Y.Loan_Status = le.fit_transform(Y)"
   ]
  },
  {
   "cell_type": "code",
   "execution_count": 8,
   "id": "8c583d9d",
   "metadata": {},
   "outputs": [],
   "source": [
    "Xnew = preprocessing(X)"
   ]
  },
  {
   "cell_type": "code",
   "execution_count": 9,
   "id": "f6fe8727",
   "metadata": {},
   "outputs": [],
   "source": [
    "xtrain,xtest,ytrain,ytest=train_test_split(Xnew,Y,test_size=0.2,random_state=21)"
   ]
  },
  {
   "cell_type": "code",
   "execution_count": 10,
   "id": "51f764ed",
   "metadata": {},
   "outputs": [
    {
     "data": {
      "text/plain": [
       "(491, 20)"
      ]
     },
     "execution_count": 10,
     "metadata": {},
     "output_type": "execute_result"
    }
   ],
   "source": [
    "xtrain.shape"
   ]
  },
  {
   "cell_type": "code",
   "execution_count": 11,
   "id": "86fde9ae",
   "metadata": {},
   "outputs": [
    {
     "data": {
      "text/plain": [
       "20"
      ]
     },
     "execution_count": 11,
     "metadata": {},
     "output_type": "execute_result"
    }
   ],
   "source": [
    "xtrain.shape[1]"
   ]
  },
  {
   "cell_type": "markdown",
   "id": "8e12da31",
   "metadata": {},
   "source": [
    "<h2 style=\"color:Green\" align=\"left\">Creating ANN Model Untuned</h2>"
   ]
  },
  {
   "cell_type": "markdown",
   "id": "5c1d3c96",
   "metadata": {},
   "source": []
  },
  {
   "cell_type": "code",
   "execution_count": 12,
   "id": "bab6533f",
   "metadata": {},
   "outputs": [],
   "source": [
    "nn = Sequential()\n",
    "nn.add(Dense(128,input_dim=xtrain.shape[1]))\n",
    "nn.add(Dense(20))\n",
    "nn.add(Dense(20))\n",
    "nn.add(Dense(20))\n",
    "nn.add(Dense(20))\n",
    "nn.add(Dense(1,activation=\"sigmoid\"))"
   ]
  },
  {
   "cell_type": "code",
   "execution_count": 13,
   "id": "869fc63d",
   "metadata": {},
   "outputs": [
    {
     "name": "stdout",
     "output_type": "stream",
     "text": [
      "Epoch 1/50\n",
      "13/13 [==============================] - 1s 20ms/step - loss: 0.5994 - accuracy: 0.7143 - val_loss: 0.4969 - val_accuracy: 0.8081\n",
      "Epoch 2/50\n",
      "13/13 [==============================] - 0s 5ms/step - loss: 0.4759 - accuracy: 0.8061 - val_loss: 0.5203 - val_accuracy: 0.7980\n",
      "Epoch 3/50\n",
      "13/13 [==============================] - 0s 5ms/step - loss: 0.4615 - accuracy: 0.8036 - val_loss: 0.5111 - val_accuracy: 0.8182\n",
      "Epoch 4/50\n",
      "13/13 [==============================] - 0s 5ms/step - loss: 0.4627 - accuracy: 0.8061 - val_loss: 0.5171 - val_accuracy: 0.7879\n",
      "Epoch 5/50\n",
      "13/13 [==============================] - 0s 4ms/step - loss: 0.4584 - accuracy: 0.7959 - val_loss: 0.4974 - val_accuracy: 0.8182\n",
      "Epoch 6/50\n",
      "13/13 [==============================] - 0s 6ms/step - loss: 0.4662 - accuracy: 0.8036 - val_loss: 0.5236 - val_accuracy: 0.7879\n",
      "Epoch 7/50\n",
      "13/13 [==============================] - 0s 6ms/step - loss: 0.4599 - accuracy: 0.8087 - val_loss: 0.4931 - val_accuracy: 0.8081\n",
      "Epoch 8/50\n",
      "13/13 [==============================] - 0s 5ms/step - loss: 0.4591 - accuracy: 0.8087 - val_loss: 0.5155 - val_accuracy: 0.8081\n",
      "Epoch 9/50\n",
      "13/13 [==============================] - 0s 5ms/step - loss: 0.4602 - accuracy: 0.8112 - val_loss: 0.4955 - val_accuracy: 0.7980\n",
      "Epoch 10/50\n",
      "13/13 [==============================] - 0s 4ms/step - loss: 0.4565 - accuracy: 0.8010 - val_loss: 0.5110 - val_accuracy: 0.7980\n",
      "Epoch 11/50\n",
      "13/13 [==============================] - 0s 5ms/step - loss: 0.4585 - accuracy: 0.8036 - val_loss: 0.5233 - val_accuracy: 0.8081\n",
      "Epoch 12/50\n",
      "13/13 [==============================] - 0s 4ms/step - loss: 0.4558 - accuracy: 0.8087 - val_loss: 0.5090 - val_accuracy: 0.7980\n",
      "Epoch 13/50\n",
      "13/13 [==============================] - 0s 5ms/step - loss: 0.4606 - accuracy: 0.8061 - val_loss: 0.5083 - val_accuracy: 0.7980\n",
      "Epoch 14/50\n",
      "13/13 [==============================] - 0s 4ms/step - loss: 0.4547 - accuracy: 0.8061 - val_loss: 0.5130 - val_accuracy: 0.8081\n",
      "Epoch 15/50\n",
      "13/13 [==============================] - 0s 4ms/step - loss: 0.4550 - accuracy: 0.8163 - val_loss: 0.5105 - val_accuracy: 0.8081\n",
      "Epoch 16/50\n",
      "13/13 [==============================] - 0s 5ms/step - loss: 0.4534 - accuracy: 0.8138 - val_loss: 0.5359 - val_accuracy: 0.8081\n",
      "Epoch 17/50\n",
      "13/13 [==============================] - 0s 5ms/step - loss: 0.4592 - accuracy: 0.8138 - val_loss: 0.5012 - val_accuracy: 0.8081\n",
      "Epoch 18/50\n",
      "13/13 [==============================] - 0s 5ms/step - loss: 0.4494 - accuracy: 0.8087 - val_loss: 0.5093 - val_accuracy: 0.8081\n",
      "Epoch 19/50\n",
      "13/13 [==============================] - 0s 5ms/step - loss: 0.4546 - accuracy: 0.8087 - val_loss: 0.5155 - val_accuracy: 0.8081\n",
      "Epoch 20/50\n",
      "13/13 [==============================] - 0s 4ms/step - loss: 0.4536 - accuracy: 0.8138 - val_loss: 0.5121 - val_accuracy: 0.8081\n",
      "Epoch 21/50\n",
      "13/13 [==============================] - 0s 6ms/step - loss: 0.4587 - accuracy: 0.8087 - val_loss: 0.5110 - val_accuracy: 0.8182\n",
      "Epoch 22/50\n",
      "13/13 [==============================] - 0s 5ms/step - loss: 0.4511 - accuracy: 0.8138 - val_loss: 0.5156 - val_accuracy: 0.8081\n",
      "Epoch 23/50\n",
      "13/13 [==============================] - 0s 5ms/step - loss: 0.4489 - accuracy: 0.8138 - val_loss: 0.5108 - val_accuracy: 0.8081\n",
      "Epoch 24/50\n",
      "13/13 [==============================] - 0s 4ms/step - loss: 0.4504 - accuracy: 0.8112 - val_loss: 0.5143 - val_accuracy: 0.7980\n",
      "Epoch 25/50\n",
      "13/13 [==============================] - 0s 7ms/step - loss: 0.4523 - accuracy: 0.8061 - val_loss: 0.5061 - val_accuracy: 0.8081\n",
      "Epoch 26/50\n",
      "13/13 [==============================] - 0s 5ms/step - loss: 0.4545 - accuracy: 0.8163 - val_loss: 0.5072 - val_accuracy: 0.7980\n",
      "Epoch 27/50\n",
      "13/13 [==============================] - 0s 4ms/step - loss: 0.4550 - accuracy: 0.8112 - val_loss: 0.5245 - val_accuracy: 0.7879\n",
      "Epoch 28/50\n",
      "13/13 [==============================] - 0s 5ms/step - loss: 0.4474 - accuracy: 0.8087 - val_loss: 0.5442 - val_accuracy: 0.8182\n",
      "Epoch 29/50\n",
      "13/13 [==============================] - 0s 5ms/step - loss: 0.4546 - accuracy: 0.8061 - val_loss: 0.4891 - val_accuracy: 0.8081\n",
      "Epoch 30/50\n",
      "13/13 [==============================] - 0s 5ms/step - loss: 0.4498 - accuracy: 0.8163 - val_loss: 0.5081 - val_accuracy: 0.8081\n",
      "Epoch 31/50\n",
      "13/13 [==============================] - 0s 5ms/step - loss: 0.4568 - accuracy: 0.8087 - val_loss: 0.4966 - val_accuracy: 0.8182\n",
      "Epoch 32/50\n",
      "13/13 [==============================] - 0s 4ms/step - loss: 0.4470 - accuracy: 0.8112 - val_loss: 0.5191 - val_accuracy: 0.7980\n",
      "Epoch 33/50\n",
      "13/13 [==============================] - 0s 5ms/step - loss: 0.4572 - accuracy: 0.8087 - val_loss: 0.4966 - val_accuracy: 0.7980\n",
      "Epoch 34/50\n",
      "13/13 [==============================] - 0s 5ms/step - loss: 0.4524 - accuracy: 0.8138 - val_loss: 0.4989 - val_accuracy: 0.8081\n",
      "Epoch 35/50\n",
      "13/13 [==============================] - 0s 5ms/step - loss: 0.4482 - accuracy: 0.8087 - val_loss: 0.5019 - val_accuracy: 0.8081\n",
      "Epoch 36/50\n",
      "13/13 [==============================] - 0s 7ms/step - loss: 0.4541 - accuracy: 0.8189 - val_loss: 0.4920 - val_accuracy: 0.8081\n",
      "Epoch 37/50\n",
      "13/13 [==============================] - 0s 5ms/step - loss: 0.4536 - accuracy: 0.8189 - val_loss: 0.5058 - val_accuracy: 0.8081\n",
      "Epoch 38/50\n",
      "13/13 [==============================] - 0s 5ms/step - loss: 0.4499 - accuracy: 0.8112 - val_loss: 0.5092 - val_accuracy: 0.8081\n",
      "Epoch 39/50\n",
      "13/13 [==============================] - 0s 4ms/step - loss: 0.4503 - accuracy: 0.8112 - val_loss: 0.5064 - val_accuracy: 0.8081\n",
      "Epoch 40/50\n",
      "13/13 [==============================] - 0s 4ms/step - loss: 0.4514 - accuracy: 0.8087 - val_loss: 0.5110 - val_accuracy: 0.8081\n",
      "Epoch 41/50\n",
      "13/13 [==============================] - 0s 4ms/step - loss: 0.4489 - accuracy: 0.8163 - val_loss: 0.5086 - val_accuracy: 0.7980\n",
      "Epoch 42/50\n",
      "13/13 [==============================] - 0s 4ms/step - loss: 0.4518 - accuracy: 0.8138 - val_loss: 0.5130 - val_accuracy: 0.8081\n",
      "Epoch 43/50\n",
      "13/13 [==============================] - 0s 4ms/step - loss: 0.4535 - accuracy: 0.8138 - val_loss: 0.5100 - val_accuracy: 0.8081\n",
      "Epoch 44/50\n",
      "13/13 [==============================] - 0s 7ms/step - loss: 0.4515 - accuracy: 0.8163 - val_loss: 0.5166 - val_accuracy: 0.8081\n",
      "Epoch 45/50\n",
      "13/13 [==============================] - 0s 4ms/step - loss: 0.4510 - accuracy: 0.8112 - val_loss: 0.5294 - val_accuracy: 0.7879\n",
      "Epoch 46/50\n",
      "13/13 [==============================] - 0s 4ms/step - loss: 0.4517 - accuracy: 0.8112 - val_loss: 0.5134 - val_accuracy: 0.8081\n",
      "Epoch 47/50\n",
      "13/13 [==============================] - 0s 5ms/step - loss: 0.4486 - accuracy: 0.8112 - val_loss: 0.5216 - val_accuracy: 0.8081\n",
      "Epoch 48/50\n",
      "13/13 [==============================] - 0s 5ms/step - loss: 0.4498 - accuracy: 0.8112 - val_loss: 0.5048 - val_accuracy: 0.7980\n",
      "Epoch 49/50\n",
      "13/13 [==============================] - 0s 4ms/step - loss: 0.4502 - accuracy: 0.8087 - val_loss: 0.5353 - val_accuracy: 0.8081\n",
      "Epoch 50/50\n",
      "13/13 [==============================] - 0s 4ms/step - loss: 0.4572 - accuracy: 0.8112 - val_loss: 0.5130 - val_accuracy: 0.8081\n"
     ]
    },
    {
     "data": {
      "text/plain": [
       "<keras.callbacks.History at 0x1b3827a9910>"
      ]
     },
     "execution_count": 13,
     "metadata": {},
     "output_type": "execute_result"
    }
   ],
   "source": [
    "nn.compile(loss=\"binary_crossentropy\",metrics=\"accuracy\")\n",
    "nn.fit(xtrain,ytrain,epochs=50,validation_split=0.2)"
   ]
  },
  {
   "cell_type": "raw",
   "id": "b6c82b41",
   "metadata": {},
   "source": [
    "val_accuracy: 0.8081\n",
    "val_loss: 0.5114\n",
    "loss: 0.4500\n",
    "accuracy: 0.8010"
   ]
  },
  {
   "cell_type": "markdown",
   "id": "f9c7ff29",
   "metadata": {},
   "source": [
    "<h2 style=\"color:Green\" align=\"left\">Using Keras Tuner</h2>\n"
   ]
  },
  {
   "cell_type": "markdown",
   "id": "88bb255e",
   "metadata": {},
   "source": [
    "\n"
   ]
  },
  {
   "cell_type": "code",
   "execution_count": 14,
   "id": "af4bfc9e",
   "metadata": {},
   "outputs": [],
   "source": [
    "def model_builder(hp):\n",
    "    nn = Sequential()\n",
    "    nn.add(Dense(128, input_dim=xtrain.shape[1]))\n",
    "    # This is the line whch is check by use\n",
    "    x = hp.Int(\"units\", min_value = 32, max_value = 256, step = 32)\n",
    "    nn.add(Dense(units=x))\n",
    "    nn.add(Dense(1, activation=\"sigmoid\"))\n",
    "    nn.compile(loss=\"binary_crossentropy\", metrics=\"accuracy\")\n",
    "    return nn"
   ]
  },
  {
   "cell_type": "markdown",
   "id": "1e399aab",
   "metadata": {},
   "source": [
    "<h2 style=\"color:Green\" align=\"left\">Hyperband</h2>"
   ]
  },
  {
   "cell_type": "code",
   "execution_count": 15,
   "id": "2831566d",
   "metadata": {},
   "outputs": [],
   "source": [
    "es = EarlyStopping(monitor=\"val_loss\",patience=25)"
   ]
  },
  {
   "cell_type": "code",
   "execution_count": 23,
   "id": "0cfd9330",
   "metadata": {},
   "outputs": [],
   "source": [
    "import keras_tuner as kt\n",
    "tuner = kt.Hyperband(model_builder,\n",
    "                    objective=\"val_accuracy\",\n",
    "                    max_epochs=10,\n",
    "                    directory=\"/Users/user/Desktop/python/datasets/Kt_nn_N_n2\",\n",
    "                    project_name=\"keras_tuner1\")"
   ]
  },
  {
   "cell_type": "code",
   "execution_count": 20,
   "id": "39ccd5be",
   "metadata": {},
   "outputs": [
    {
     "name": "stdout",
     "output_type": "stream",
     "text": [
      "Trial 8 Complete [00h 00m 01s]\n",
      "val_accuracy: 0.808080792427063\n",
      "\n",
      "Best val_accuracy So Far: 0.8181818127632141\n",
      "Total elapsed time: 00h 00m 12s\n",
      "INFO:tensorflow:Oracle triggered exit\n"
     ]
    }
   ],
   "source": [
    "tuner.search(xtrain, ytrain,epochs=100, validation_split=0.2)"
   ]
  },
  {
   "cell_type": "markdown",
   "id": "a4489228",
   "metadata": {},
   "source": [
    "<h2 style=\"color:Green\" align=\"left\">Using Call Back To stop iteration if it does not get any new increment</h2>"
   ]
  },
  {
   "cell_type": "code",
   "execution_count": 21,
   "id": "d601c767",
   "metadata": {},
   "outputs": [],
   "source": [
    "\n",
    "es = EarlyStopping(monitor=\"val_loss\",patience=25)"
   ]
  },
  {
   "cell_type": "code",
   "execution_count": 24,
   "id": "c87e1e65",
   "metadata": {},
   "outputs": [
    {
     "name": "stdout",
     "output_type": "stream",
     "text": [
      "Trial 8 Complete [00h 00m 01s]\n",
      "val_accuracy: 0.7777777910232544\n",
      "\n",
      "Best val_accuracy So Far: 0.8282828330993652\n",
      "Total elapsed time: 00h 00m 12s\n",
      "INFO:tensorflow:Oracle triggered exit\n"
     ]
    }
   ],
   "source": [
    "tuner.search(xtrain, ytrain,epochs=50, validation_split=0.2, callbacks=[es])"
   ]
  },
  {
   "cell_type": "code",
   "execution_count": 25,
   "id": "631cba07",
   "metadata": {},
   "outputs": [
    {
     "data": {
      "text/plain": [
       "224"
      ]
     },
     "execution_count": 25,
     "metadata": {},
     "output_type": "execute_result"
    }
   ],
   "source": [
    "layers_size = tuner.get_best_hyperparameters(num_trials=1)[0].get(\"units\")\n",
    "layers_size"
   ]
  },
  {
   "cell_type": "markdown",
   "id": "ab2658fb",
   "metadata": {},
   "source": [
    "<h2 style=\"color:Green\" align=\"left\">Finally Used Tuned Value</h2>"
   ]
  },
  {
   "cell_type": "code",
   "execution_count": 26,
   "id": "923088b1",
   "metadata": {},
   "outputs": [
    {
     "name": "stdout",
     "output_type": "stream",
     "text": [
      "Epoch 1/50\n",
      "13/13 [==============================] - 1s 17ms/step - loss: 0.6101 - accuracy: 0.7296 - val_loss: 0.5992 - val_accuracy: 0.7677\n",
      "Epoch 2/50\n",
      "13/13 [==============================] - 0s 6ms/step - loss: 0.5294 - accuracy: 0.7832 - val_loss: 0.5302 - val_accuracy: 0.8081\n",
      "Epoch 3/50\n",
      "13/13 [==============================] - 0s 6ms/step - loss: 0.4906 - accuracy: 0.7985 - val_loss: 0.5205 - val_accuracy: 0.7879\n",
      "Epoch 4/50\n",
      "13/13 [==============================] - 0s 6ms/step - loss: 0.4887 - accuracy: 0.8061 - val_loss: 0.5521 - val_accuracy: 0.7879\n",
      "Epoch 5/50\n",
      "13/13 [==============================] - 0s 6ms/step - loss: 0.4783 - accuracy: 0.7934 - val_loss: 0.5861 - val_accuracy: 0.8081\n",
      "Epoch 6/50\n",
      "13/13 [==============================] - 0s 5ms/step - loss: 0.4782 - accuracy: 0.8138 - val_loss: 0.5147 - val_accuracy: 0.7980\n",
      "Epoch 7/50\n",
      "13/13 [==============================] - 0s 6ms/step - loss: 0.4747 - accuracy: 0.7908 - val_loss: 0.6323 - val_accuracy: 0.7879\n",
      "Epoch 8/50\n",
      "13/13 [==============================] - 0s 6ms/step - loss: 0.5058 - accuracy: 0.8061 - val_loss: 0.5436 - val_accuracy: 0.7778\n",
      "Epoch 9/50\n",
      "13/13 [==============================] - 0s 5ms/step - loss: 0.4693 - accuracy: 0.8036 - val_loss: 0.6030 - val_accuracy: 0.7273\n",
      "Epoch 10/50\n",
      "13/13 [==============================] - 0s 6ms/step - loss: 0.4838 - accuracy: 0.8010 - val_loss: 0.5273 - val_accuracy: 0.7879\n",
      "Epoch 11/50\n",
      "13/13 [==============================] - 0s 5ms/step - loss: 0.4677 - accuracy: 0.8061 - val_loss: 0.6044 - val_accuracy: 0.7980\n",
      "Epoch 12/50\n",
      "13/13 [==============================] - 0s 6ms/step - loss: 0.4797 - accuracy: 0.8138 - val_loss: 0.6062 - val_accuracy: 0.7374\n",
      "Epoch 13/50\n",
      "13/13 [==============================] - 0s 6ms/step - loss: 0.4771 - accuracy: 0.8087 - val_loss: 0.5095 - val_accuracy: 0.8081\n",
      "Epoch 14/50\n",
      "13/13 [==============================] - 0s 6ms/step - loss: 0.4706 - accuracy: 0.8036 - val_loss: 0.5465 - val_accuracy: 0.8081\n",
      "Epoch 15/50\n",
      "13/13 [==============================] - 0s 5ms/step - loss: 0.4757 - accuracy: 0.7985 - val_loss: 0.5628 - val_accuracy: 0.7778\n",
      "Epoch 16/50\n",
      "13/13 [==============================] - 0s 7ms/step - loss: 0.4697 - accuracy: 0.8087 - val_loss: 0.4874 - val_accuracy: 0.7980\n",
      "Epoch 17/50\n",
      "13/13 [==============================] - 0s 5ms/step - loss: 0.4633 - accuracy: 0.8112 - val_loss: 0.6005 - val_accuracy: 0.7576\n",
      "Epoch 18/50\n",
      "13/13 [==============================] - 0s 6ms/step - loss: 0.4669 - accuracy: 0.8010 - val_loss: 0.6330 - val_accuracy: 0.8182\n",
      "Epoch 19/50\n",
      "13/13 [==============================] - 0s 6ms/step - loss: 0.4813 - accuracy: 0.8087 - val_loss: 0.4908 - val_accuracy: 0.8182\n",
      "Epoch 20/50\n",
      "13/13 [==============================] - 0s 5ms/step - loss: 0.4600 - accuracy: 0.8010 - val_loss: 0.5164 - val_accuracy: 0.8081\n",
      "Epoch 21/50\n",
      "13/13 [==============================] - 0s 7ms/step - loss: 0.4603 - accuracy: 0.8087 - val_loss: 0.5309 - val_accuracy: 0.7980\n",
      "Epoch 22/50\n",
      "13/13 [==============================] - 0s 6ms/step - loss: 0.4673 - accuracy: 0.8036 - val_loss: 0.5039 - val_accuracy: 0.8081\n",
      "Epoch 23/50\n",
      "13/13 [==============================] - 0s 5ms/step - loss: 0.4569 - accuracy: 0.8112 - val_loss: 0.6400 - val_accuracy: 0.8081\n",
      "Epoch 24/50\n",
      "13/13 [==============================] - 0s 6ms/step - loss: 0.4758 - accuracy: 0.8036 - val_loss: 0.5187 - val_accuracy: 0.8081\n",
      "Epoch 25/50\n",
      "13/13 [==============================] - 0s 6ms/step - loss: 0.4674 - accuracy: 0.8112 - val_loss: 0.5491 - val_accuracy: 0.8182\n",
      "Epoch 26/50\n",
      "13/13 [==============================] - 0s 5ms/step - loss: 0.4703 - accuracy: 0.8010 - val_loss: 0.5232 - val_accuracy: 0.7980\n",
      "Epoch 27/50\n",
      "13/13 [==============================] - 0s 6ms/step - loss: 0.4627 - accuracy: 0.8061 - val_loss: 0.5736 - val_accuracy: 0.7879\n",
      "Epoch 28/50\n",
      "13/13 [==============================] - 0s 6ms/step - loss: 0.4623 - accuracy: 0.8010 - val_loss: 0.5079 - val_accuracy: 0.8081\n",
      "Epoch 29/50\n",
      "13/13 [==============================] - 0s 5ms/step - loss: 0.4763 - accuracy: 0.8087 - val_loss: 0.5228 - val_accuracy: 0.7980\n",
      "Epoch 30/50\n",
      "13/13 [==============================] - 0s 6ms/step - loss: 0.4635 - accuracy: 0.8087 - val_loss: 0.5273 - val_accuracy: 0.8182\n",
      "Epoch 31/50\n",
      "13/13 [==============================] - 0s 6ms/step - loss: 0.4603 - accuracy: 0.8087 - val_loss: 0.5916 - val_accuracy: 0.7980\n",
      "Epoch 32/50\n",
      "13/13 [==============================] - 0s 6ms/step - loss: 0.4616 - accuracy: 0.8138 - val_loss: 0.5612 - val_accuracy: 0.7677\n",
      "Epoch 33/50\n",
      "13/13 [==============================] - 0s 6ms/step - loss: 0.4687 - accuracy: 0.8010 - val_loss: 0.5393 - val_accuracy: 0.8081\n",
      "Epoch 34/50\n",
      "13/13 [==============================] - 0s 7ms/step - loss: 0.4510 - accuracy: 0.8061 - val_loss: 0.6746 - val_accuracy: 0.8081\n",
      "Epoch 35/50\n",
      "13/13 [==============================] - 0s 5ms/step - loss: 0.4886 - accuracy: 0.8061 - val_loss: 0.5169 - val_accuracy: 0.7879\n",
      "Epoch 36/50\n",
      "13/13 [==============================] - 0s 8ms/step - loss: 0.4583 - accuracy: 0.8061 - val_loss: 0.5201 - val_accuracy: 0.7980\n",
      "Epoch 37/50\n",
      "13/13 [==============================] - 0s 5ms/step - loss: 0.4605 - accuracy: 0.8112 - val_loss: 0.5263 - val_accuracy: 0.7980\n",
      "Epoch 38/50\n",
      "13/13 [==============================] - 0s 5ms/step - loss: 0.4633 - accuracy: 0.8112 - val_loss: 0.5333 - val_accuracy: 0.8081\n",
      "Epoch 39/50\n",
      "13/13 [==============================] - 0s 5ms/step - loss: 0.4574 - accuracy: 0.8112 - val_loss: 0.5522 - val_accuracy: 0.7980\n",
      "Epoch 40/50\n",
      "13/13 [==============================] - 0s 8ms/step - loss: 0.4685 - accuracy: 0.8087 - val_loss: 0.5161 - val_accuracy: 0.7980\n",
      "Epoch 41/50\n",
      "13/13 [==============================] - 0s 6ms/step - loss: 0.4569 - accuracy: 0.8138 - val_loss: 0.5339 - val_accuracy: 0.8182\n",
      "Epoch 42/50\n",
      "13/13 [==============================] - 0s 8ms/step - loss: 0.4625 - accuracy: 0.7959 - val_loss: 0.5505 - val_accuracy: 0.7879\n",
      "Epoch 43/50\n",
      "13/13 [==============================] - 0s 10ms/step - loss: 0.4650 - accuracy: 0.8036 - val_loss: 0.5424 - val_accuracy: 0.8081\n",
      "Epoch 44/50\n",
      "13/13 [==============================] - 0s 6ms/step - loss: 0.4588 - accuracy: 0.8138 - val_loss: 0.5667 - val_accuracy: 0.8081\n",
      "Epoch 45/50\n",
      "13/13 [==============================] - 0s 5ms/step - loss: 0.4558 - accuracy: 0.8087 - val_loss: 0.6386 - val_accuracy: 0.8081\n",
      "Epoch 46/50\n",
      "13/13 [==============================] - 0s 7ms/step - loss: 0.4700 - accuracy: 0.8036 - val_loss: 0.5328 - val_accuracy: 0.8081\n",
      "Epoch 47/50\n",
      "13/13 [==============================] - 0s 6ms/step - loss: 0.4530 - accuracy: 0.8010 - val_loss: 0.5091 - val_accuracy: 0.8081\n",
      "Epoch 48/50\n",
      "13/13 [==============================] - 0s 5ms/step - loss: 0.4608 - accuracy: 0.8214 - val_loss: 0.5271 - val_accuracy: 0.8182\n",
      "Epoch 49/50\n",
      "13/13 [==============================] - 0s 5ms/step - loss: 0.4565 - accuracy: 0.8163 - val_loss: 0.5543 - val_accuracy: 0.8081\n",
      "Epoch 50/50\n",
      "13/13 [==============================] - 0s 6ms/step - loss: 0.4531 - accuracy: 0.8138 - val_loss: 0.5599 - val_accuracy: 0.7980\n"
     ]
    },
    {
     "data": {
      "text/plain": [
       "<keras.callbacks.History at 0x1b386b1f4f0>"
      ]
     },
     "execution_count": 26,
     "metadata": {},
     "output_type": "execute_result"
    }
   ],
   "source": [
    "nn = Sequential()\n",
    "nn.add(Dense(layers_size,input_dim=xtrain.shape[1]))\n",
    "nn.add(Dense(layers_size))\n",
    "nn.add(Dense(layers_size))\n",
    "nn.add(Dense(layers_size))\n",
    "nn.add(Dense(1,activation=\"sigmoid\"))\n",
    "nn.compile(loss=\"binary_crossentropy\",metrics=\"accuracy\")\n",
    "nn.fit(xtrain,ytrain,epochs=50,validation_split=0.2)"
   ]
  },
  {
   "cell_type": "raw",
   "id": "31579866",
   "metadata": {},
   "source": [
    "val_accuracy: 0.8182\n",
    "val_loss: 0.4954\n",
    "loss: 0.4813\n",
    "accuracy: 0.8087"
   ]
  },
  {
   "cell_type": "code",
   "execution_count": null,
   "id": "1c87a58b",
   "metadata": {},
   "outputs": [],
   "source": []
  },
  {
   "cell_type": "code",
   "execution_count": null,
   "id": "dd5c5816",
   "metadata": {},
   "outputs": [],
   "source": []
  }
 ],
 "metadata": {
  "kernelspec": {
   "display_name": "Python 3 (ipykernel)",
   "language": "python",
   "name": "python3"
  },
  "language_info": {
   "codemirror_mode": {
    "name": "ipython",
    "version": 3
   },
   "file_extension": ".py",
   "mimetype": "text/x-python",
   "name": "python",
   "nbconvert_exporter": "python",
   "pygments_lexer": "ipython3",
   "version": "3.8.13"
  }
 },
 "nbformat": 4,
 "nbformat_minor": 5
}
